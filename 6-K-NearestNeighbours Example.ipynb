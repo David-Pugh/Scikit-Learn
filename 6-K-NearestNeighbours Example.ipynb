{
 "cells": [
  {
   "cell_type": "markdown",
   "metadata": {},
   "source": [
    "# K-Nearest Neighbours"
   ]
  },
  {
   "cell_type": "markdown",
   "metadata": {},
   "source": [
    "K-Nearest Neigbours (KNN) can be used for both classification and regression problems. However, it is more widely used in classification problems in the ML industry. K-nearest neighbours is a simple algorithm that stores all available cases and classifies new cases by a majority vote of its _k_ neighbours. The case assigned to the class is the most common amongst its K-nearest neighbours, measured by a distance function. It is fundamentally different to the other models we have considered so far.\n",
    "\n",
    "1. Choose the number of _k_ and a distance metric\n",
    "2. Find the _k_ nearest neighbours of the sample that we want to classify\n",
    "3. Assign the class label by majority vote\n",
    "\n",
    "These distance functions can be Euclidean, Manhattan, Minkowski, or Hamming distance. The first three functions are used for continuous functions and Hamming is used for categorical variables. If K = 1, then the case is simply assigned to the class of its nearest neighbor. \n",
    "\n",
    "At times, choosing K turns out to be a challenge while performing KNN modeling. It is key to finding a good balance between under and over fitting. The Minlowski distance function is a generalised version of the Euclidean and Manhattan distances, and becomes the Euclidena in SciKit-lLearn if we set p=2 or Manhattan if we set p=1.\n",
    "\n",
    "KNN is an example of a _lazy learner_. It is called lazy because it doesn't learn to discriminate the training data through a function. It is an _instance beased learning_ model that memorises the training dataset. As new training data is collected the classifier imediately adapts to it. However the computational complexity for classifiying new samples grows linearly with the number of samples in the training set. As no training setp is involved we cant discard training samples and so storage space can be a challenge!\n",
    "\n",
    "KNN can easily be mapped to our real lives. If you want to learn about a person about whom you have no information, you might like to find out about their close friends and the circles they move in to gain access to their information!\n",
    "\n",
    "Things to consider before selecting KNN:\n",
    "* KNN is computationally expensive.\n",
    "* Variables should be normalized, or else higher-range variables can bias it.\n",
    "* Works on the pre-processing stage more before going for KNN, like outlier/noise removal.\n"
   ]
  },
  {
   "cell_type": "code",
   "execution_count": 1,
   "metadata": {
    "collapsed": true
   },
   "outputs": [],
   "source": [
    "import matplotlib.pyplot as plt\n",
    "import numpy as np"
   ]
  },
  {
   "cell_type": "code",
   "execution_count": 2,
   "metadata": {
    "collapsed": false
   },
   "outputs": [],
   "source": [
    "from sklearn.neighbors import KNeighborsClassifier\n",
    "import scikit_utilities as ut"
   ]
  },
  {
   "cell_type": "markdown",
   "metadata": {},
   "source": [
    "### Data"
   ]
  },
  {
   "cell_type": "code",
   "execution_count": 3,
   "metadata": {
    "collapsed": false
   },
   "outputs": [
    {
     "name": "stdout",
     "output_type": "stream",
     "text": [
      "[0 1 2]\n",
      "Training Data set is 105 values long\n"
     ]
    }
   ],
   "source": [
    "X_train_std, y_train, X_test_std, y_test, X_combined_std, y_combined, X_train, X_test = ut.get_iris_data()"
   ]
  },
  {
   "cell_type": "markdown",
   "metadata": {},
   "source": [
    "### Model"
   ]
  },
  {
   "cell_type": "code",
   "execution_count": 4,
   "metadata": {
    "collapsed": false
   },
   "outputs": [
    {
     "data": {
      "text/plain": [
       "KNeighborsClassifier(algorithm='auto', leaf_size=30, metric='minkowski',\n",
       "           metric_params=None, n_jobs=1, n_neighbors=5, p=2,\n",
       "           weights='uniform')"
      ]
     },
     "execution_count": 4,
     "metadata": {},
     "output_type": "execute_result"
    }
   ],
   "source": [
    "knn = KNeighborsClassifier(n_neighbors=5, p=2, metric='minkowski')\n",
    "knn.fit(X_train_std, y_train)"
   ]
  },
  {
   "cell_type": "markdown",
   "metadata": {},
   "source": [
    "### Plot"
   ]
  },
  {
   "cell_type": "code",
   "execution_count": 5,
   "metadata": {
    "collapsed": true
   },
   "outputs": [],
   "source": [
    "X_combined_std = np.vstack((X_train_std, X_test_std))\n",
    "Y_combined = np.hstack((y_train, y_test))"
   ]
  },
  {
   "cell_type": "code",
   "execution_count": 7,
   "metadata": {
    "collapsed": false
   },
   "outputs": [],
   "source": [
    "plt=ut.plot_decision_regions(X_combined_std, Y_combined, classifier=knn, test_idx=range(105,150))"
   ]
  },
  {
   "cell_type": "code",
   "execution_count": 8,
   "metadata": {
    "collapsed": false
   },
   "outputs": [
    {
     "data": {
      "image/png": "[encoded data removed]",
      "text/plain": [
       "<matplotlib.figure.Figure at 0xae23390>"
      ]
     },
     "metadata": {},
     "output_type": "display_data"
    }
   ],
   "source": [
    "plt.xlabel('petal length (standardised)')\n",
    "plt.ylabel('petal width (standardised)')\n",
    "plt.show()"
   ]
  },
  {
   "cell_type": "markdown",
   "metadata": {},
   "source": [
    "### The Curse of Dimensionality"
   ]
  },
  {
   "cell_type": "markdown",
   "metadata": {},
   "source": [
    "As the dimension of a fixed size data set increases the feature space becomes increasingly sparse and the closest neighbour can be too far away to yield a good estimate. Dimensionality reduction becomes important for models like KNN."
   ]
  }
 ],
 "metadata": {
  "kernelspec": {
   "display_name": "Python 3",
   "language": "python",
   "name": "python3"
  },
  "language_info": {
   "codemirror_mode": {
    "name": "ipython",
    "version": 3
   },
   "file_extension": ".py",
   "mimetype": "text/x-python",
   "name": "python",
   "nbconvert_exporter": "python",
   "pygments_lexer": "ipython3",
   "version": "3.6.0"
  }
 },
 "nbformat": 4,
 "nbformat_minor": 2
}
